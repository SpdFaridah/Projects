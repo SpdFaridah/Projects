{
  "nbformat": 4,
  "nbformat_minor": 0,
  "metadata": {
    "colab": {
      "provenance": [],
      "authorship_tag": "ABX9TyMLO7RgWm4D/YObd8aEdR1u",
      "include_colab_link": true
    },
    "kernelspec": {
      "name": "python3",
      "display_name": "Python 3"
    },
    "language_info": {
      "name": "python"
    }
  },
  "cells": [
    {
      "cell_type": "markdown",
      "metadata": {
        "id": "view-in-github",
        "colab_type": "text"
      },
      "source": [
        "<a href=\"https://colab.research.google.com/github/SpdFaridah/Projects/blob/main/My_Simple_Calculator_Program.ipynb\" target=\"_parent\"><img src=\"https://colab.research.google.com/assets/colab-badge.svg\" alt=\"Open In Colab\"/></a>"
      ]
    },
    {
      "cell_type": "markdown",
      "source": [
        "My Simple Calculator Program\n"
      ],
      "metadata": {
        "id": "W5weapIClzsK"
      }
    },
    {
      "cell_type": "code",
      "execution_count": null,
      "metadata": {
        "colab": {
          "base_uri": "https://localhost:8080/"
        },
        "outputId": "165ab260-2379-44cb-dc95-65b00326def3",
        "id": "v-KK-XF5knrD"
      },
      "outputs": [
        {
          "output_type": "stream",
          "name": "stdout",
          "text": [
            "\n",
            "Welcome to the Calculator!\n",
            " Choose an option:\n",
            " 1. Trig Operations (sin, cos, tan, log)\n",
            " 2. Basic Operations (+, -, *, /, **)\n",
            " 3. Exit\n"
          ]
        }
      ],
      "source": [
        "import math\n",
        "\n",
        "def basic_operator():\n",
        "  f_num= float(input(\"Enter first number:\"))\n",
        "  current_status= f_num\n",
        "  operator = input(\"Enter operator +, -, *, /, **, =:\").strip().lower()\n",
        "  try:\n",
        "    while operator!= \"=\":\n",
        "      s_num= float(input(\"Enter next number:\"))\n",
        "      if operator == \"+\":\n",
        "        current_status+= s_num\n",
        "      elif operator == \"-\":\n",
        "        current_status-= s_num\n",
        "      elif operator == \"*\":\n",
        "        current_status*= s_num\n",
        "      elif operator == \"/\":\n",
        "        current_status/= s_num\n",
        "      elif operator == \"**\":\n",
        "        current_status**= s_num\n",
        "      else:\n",
        "        print(\"Invalid operator\")\n",
        "      operator= input(\"Enter operator +, -, *, /, **, =:\").strip().lower()\n",
        "  except ValueError:\n",
        "    print(\"Oops! That’s not a valid number.\")\n",
        "  print(current_status)\n",
        "\n",
        "def trig():\n",
        "  operator = input(\"Enter operator sin, cos, tan, log =:\").strip().lower()\n",
        "  try:\n",
        "    while operator!= \"=\":\n",
        "      s_num= float(input(\"Enter number:\"))\n",
        "      if operator == \"sin\":\n",
        "        s_num= math.radians(s_num)\n",
        "        current_status= math.sin(s_num)\n",
        "        current_status= round(current_status,4)\n",
        "        break\n",
        "      elif operator == \"cos\":\n",
        "        s_num= math.radians(s_num)\n",
        "        current_status= math.cos(s_num)\n",
        "        current_status= round(current_status,4)\n",
        "        break\n",
        "      elif operator == \"tan\":\n",
        "        s_num= math.radians(s_num)\n",
        "        current_status= math.tan(s_num)\n",
        "        current_status= round(current_status,4)\n",
        "        break\n",
        "      elif operator == \"log\":\n",
        "        current_status= math.log10(s_num)\n",
        "        current_status= round(current_status,4)\n",
        "        break\n",
        "  except ValueError:\n",
        "    print(\"Oops! That’s not a valid number.\")\n",
        "  print(current_status)\n",
        "\n",
        "\n",
        "\n",
        "while True:\n",
        "    print(\"\\nWelcome to the Calculator!\\n Choose an option:\\n 1. Trig Operations (sin, cos, tan, log)\\n 2. Basic Operations (+, -, *, /, **)\\n 3. Exit\")\n",
        "\n",
        "    choice = input(\"Enter your choice (1/2/3): \").strip()\n",
        "\n",
        "    if choice == \"1\":\n",
        "        trig()\n",
        "    elif choice == \"2\":\n",
        "        basic_operator()\n",
        "    elif choice == \"3\":\n",
        "        print(\"Thanks for using the calculator. Goodbye!\")\n",
        "        print(\"Developed by Faridah\")\n",
        "        break\n",
        "    else:\n",
        "        print(\"Invalid option. Please try again.\")\n",
        "\n",
        "\n"
      ]
    },
    {
      "cell_type": "code",
      "source": [],
      "metadata": {
        "id": "UIZZgdA7k1ec"
      },
      "execution_count": null,
      "outputs": []
    }
  ]
}