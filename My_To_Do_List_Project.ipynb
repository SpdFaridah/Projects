{
  "nbformat": 4,
  "nbformat_minor": 0,
  "metadata": {
    "colab": {
      "provenance": [],
      "authorship_tag": "ABX9TyPDzkQhH0Ovqa1EyGecrlkG",
      "include_colab_link": true
    },
    "kernelspec": {
      "name": "python3",
      "display_name": "Python 3"
    },
    "language_info": {
      "name": "python"
    }
  },
  "cells": [
    {
      "cell_type": "markdown",
      "metadata": {
        "id": "view-in-github",
        "colab_type": "text"
      },
      "source": [
        "<a href=\"https://colab.research.google.com/github/SpdFaridah/Projects/blob/main/My_To_Do_List_Project.ipynb\" target=\"_parent\"><img src=\"https://colab.research.google.com/assets/colab-badge.svg\" alt=\"Open In Colab\"/></a>"
      ]
    },
    {
      "cell_type": "markdown",
      "source": [
        "My To-Do list Project"
      ],
      "metadata": {
        "id": "fR-dfYvTzyVw"
      }
    },
    {
      "cell_type": "code",
      "source": [
        "# This is a to-do list project, where we get to add, tasks that needs to be completed and also remove tasks that are done aready, and wow boom,\n",
        "# I also want it t be showing us the status of the each task i.e, urgrnt, important, done, in progress and so on, so when the tasks marks done\n",
        "# it automatically moves to a whole new list and the rest will remain until they are completed.\n",
        "\n",
        "tasks = []\n",
        "\n",
        "# Global categorized lists\n",
        "urgent_tasks = []\n",
        "important_tasks = []\n",
        "in_progress_tasks = []\n",
        "completed_tasks = []\n",
        "\n",
        "def add_task():\n",
        "    status_map = {\n",
        "        \"1\": \"Urgent\",\n",
        "        \"2\": \"Important\",\n",
        "        \"3\": \"In Progress\",\n",
        "        \"4\": \"Completed\"\n",
        "    }\n",
        "\n",
        "    while True:\n",
        "        task_name = input(\"Enter your task: \")\n",
        "        status_input = input(\"Enter the status (1: Urgent, 2: Important, 3: In Progress, 4: Completed): \")\n",
        "\n",
        "\n",
        "        status = status_map.get(status_input, \"In Progress\")\n",
        "\n",
        "        task = {\"name\": task_name, \"status\": status}\n",
        "        tasks.append(task)\n",
        "\n",
        "        task_stage = input(\"Are you done adding tasks? (1: Yes / 2: Not yet): \")\n",
        "        if task_stage == \"1\" or task_stage.lower() == \"yes\":\n",
        "            break\n",
        "\n",
        "def categorize_tasks():\n",
        "\n",
        "    urgent_tasks.clear()\n",
        "    important_tasks.clear()\n",
        "    in_progress_tasks.clear()\n",
        "    completed_tasks.clear()\n",
        "\n",
        "    # Add tasks to their respective category\n",
        "    for task in tasks:\n",
        "        status = task[\"status\"]\n",
        "        if status == \"Urgent\":\n",
        "            urgent_tasks.append(task[\"name\"])\n",
        "        elif status == \"Important\":\n",
        "            important_tasks.append(task[\"name\"])\n",
        "        elif status == \"In Progress\":\n",
        "            in_progress_tasks.append(task[\"name\"])\n",
        "        elif status == \"Completed\":\n",
        "            completed_tasks.append(task[\"name\"])\n",
        "\n",
        "def show_tasks():\n",
        "    # this display all categories in one go\n",
        "    print(\"\\n Final Task List:\")\n",
        "    print(f\" Urgent:\\n{urgent_tasks}\\n\")\n",
        "    print(f\" Important:\\n{important_tasks}\\n\")\n",
        "    print(f\" In Progress:\\n{in_progress_tasks}\\n\")\n",
        "    print(f\"Completed:\\n{completed_tasks}\\n\")\n",
        "\n",
        "\n",
        "\n",
        "add_task()\n",
        "categorize_tasks()\n",
        "show_tasks()\n"
      ],
      "metadata": {
        "id": "2V1an586GUX-",
        "colab": {
          "base_uri": "https://localhost:8080/"
        },
        "outputId": "5f6a338e-10cc-4285-b96d-84682a527775"
      },
      "execution_count": 8,
      "outputs": [
        {
          "output_type": "stream",
          "name": "stdout",
          "text": [
            "Enter your task: run\n",
            "Enter the status (1: Urgent, 2: Important, 3: In Progress, 4: Completed): 2\n",
            "Are you done adding tasks? (1: Yes / 2: Not yet): 2\n",
            "Enter your task: read\n",
            "Enter the status (1: Urgent, 2: Important, 3: In Progress, 4: Completed): 1\n",
            "Are you done adding tasks? (1: Yes / 2: Not yet): 2\n",
            "Enter your task: sleep\n",
            "Enter the status (1: Urgent, 2: Important, 3: In Progress, 4: Completed): 2\n",
            "Are you done adding tasks? (1: Yes / 2: Not yet): 1\n",
            "\n",
            " Final Task List:\n",
            " Urgent:\n",
            "['read']\n",
            "\n",
            " Important:\n",
            "['run', 'sleep']\n",
            "\n",
            " In Progress:\n",
            "[]\n",
            "\n",
            "Completed:\n",
            "[]\n",
            "\n"
          ]
        }
      ]
    },
    {
      "cell_type": "code",
      "source": [],
      "metadata": {
        "id": "L5bCpythVD-R"
      },
      "execution_count": null,
      "outputs": []
    }
  ]
}